{
 "cells": [
  {
   "cell_type": "code",
   "execution_count": null,
   "id": "439d8546",
   "metadata": {},
   "outputs": [],
   "source": [
    "import matplotlib.pyplot as plt\n",
    "import numpy as np\n",
    "import torch\n",
    "from scipy.io import savemat\n",
    "import math\n",
    "from loading_real_wave_noise import loading_real_wave_noise\n",
    "from Reading_path_test import loading_paths_from_MAT\n",
    "from Control_filter_selection import Control_filter_selection\n",
    "from FxLMS_algorithm import FxLMS, train_fxlms_algorithm\n",
    "from FxNLMS_algorithm import FxNLMS, train_fxnlms_algorithm\n",
    "from Fixed_filter_noise_cancellation_v1 import Fixed_filter_controller\n",
    "from Disturbance_generation import Disturbance_generation_from_real_noise\n",
    "from Combine_SFANC_with_FxLMS import SFANC_FxLMS\n",
    "from Combine_SFANC_with_FxNLMS import SFANC_FxNLMS\n",
    "\n",
    "print(torch.cuda.is_available())"
   ]
  },
  {
   "cell_type": "code",
   "execution_count": null,
   "id": "874b6677",
   "metadata": {},
   "outputs": [],
   "source": [
    "# real noises\n",
    "fs = 16000\n",
    "StepSize = 0.002\n",
    "sound_name = 'Mix_Aircraft_Traffic'\n",
    "waveform, resample_rate = loading_real_wave_noise(folde_name='Noise Examples/Real_noises/Xiaoyi/', sound_name=sound_name+'.wav')"
   ]
  },
  {
   "cell_type": "code",
   "execution_count": null,
   "id": "1e401820",
   "metadata": {},
   "outputs": [],
   "source": [
    "Pri_path, Secon_path = loading_paths_from_MAT(folder='Pz and Sz', subfolder='Dongyuan', Pri_path_file_name='Primary_path.mat', Sec_path_file_name='Secondary_path.mat')\n",
    "Dis, Fx, Re = Disturbance_generation_from_real_noise(fs=fs, Repet=0, wave_form=waveform, Pri_path=Pri_path, Sec_path=Secon_path)\n",
    "# Dis: disturbance (cotrolled noise)， Fx: fixed-x signal, Re: repeated waveform (primary_noise) Repetition=Repet+1"
   ]
  },
  {
   "cell_type": "code",
   "execution_count": null,
   "id": "03b8b87b",
   "metadata": {},
   "outputs": [],
   "source": [
    "print(waveform.shape)\n",
    "print(Re.shape)\n",
    "print(Dis.shape)\n",
    "\n",
    "import matplotlib as mpl\n",
    "mpl.rcParams['agg.path.chunksize'] = 10000"
   ]
  },
  {
   "cell_type": "code",
   "execution_count": null,
   "id": "81692c28",
   "metadata": {},
   "outputs": [],
   "source": [
    "# SFANC\n",
    "\n",
    "# prediction index\n",
    "id_vector = Control_filter_selection(fs=16000, Primary_noise=Re.unsqueeze(0)) # Primary_noise: torch.Size([1, XX])\n",
    "\n",
    "print(id_vector)\n",
    "FILE_NAME_PATH = 'models/Pretrained_Control_filters.mat'\n",
    "Fixed_Cancellation = Fixed_filter_controller(MAT_FILE=FILE_NAME_PATH, fs=16000)\n",
    "ErrorFixed = Fixed_Cancellation.noise_cancellation(Dis=Dis, Fx=Fx, filter_index=id_vector)\n",
    "Time = np.arange(len(Dis))*(1/fs)\n",
    "\n",
    "plt.rc('font', size=18, family='Times New Roman') # 将plt画图时字号设置为9字体设置为Times New Roman\n",
    "plt.rc('axes', titlesize=18) # fontsize of the axes title\n",
    "plt.rc('axes', labelsize=18) # fontsize of the x and y labels\n",
    "plt.rc('xtick', labelsize=18) # fontsize of the tick labels\n",
    "plt.rc('ytick', labelsize=18) # fontsize of the tick labels\n",
    "plt.rc('legend', fontsize=15) # legend fontsize\n",
    "plt.rc('figure', titlesize=18) # fontsize of the figure title\n",
    "\n",
    "plt.title('(a) The SFANC Algorithm')\n",
    "plt.plot(Time, Dis, color='blue', label='ANC off')\n",
    "plt.plot(Time, ErrorFixed, color='orange', label='ANC on')\n",
    "plt.ylabel('Magnitude')\n",
    "plt.xlabel('Time (seconds)')\n",
    "plt.legend()\n",
    "plt.grid()\n",
    "plt.savefig('SFANC.pdf', dpi=600, bbox_inches='tight', pad_inches=0)\n",
    "plt.show()"
   ]
  },
  {
   "cell_type": "code",
   "execution_count": null,
   "id": "8b1b9eb8",
   "metadata": {},
   "outputs": [],
   "source": [
    "# FxNLMS\n",
    "\n",
    "controller = FxNLMS(Len=1024) # 1024 is the same size of coeffient vector of fixed-filter\n",
    "ErrorFxNLMS = train_fxnlms_algorithm(Model=controller, Ref=Fx, Disturbance=Dis, Stepsize=StepSize)\n",
    "\n",
    "plt.title('(b) The FxNLMS Algorithm')\n",
    "plt.plot(Time, Dis, color='blue', label='ANC off')\n",
    "plt.plot(Time, ErrorFxNLMS, color='green', label='ANC on')\n",
    "plt.ylabel('Magnitude')\n",
    "plt.xlabel('Time (seconds)')\n",
    "plt.legend()\n",
    "plt.grid()\n",
    "plt.savefig('FxNLMS.pdf', dpi=600, bbox_inches='tight', pad_inches=0)\n",
    "plt.show()"
   ]
  },
  {
   "cell_type": "code",
   "execution_count": null,
   "id": "2de5536c",
   "metadata": {},
   "outputs": [],
   "source": [
    "# Combine SFANC with FxNLMS\n",
    "\n",
    "# prediction index\n",
    "id_vector = Control_filter_selection(fs=16000, Primary_noise=Re.unsqueeze(0)) # Primary_noise: torch.Size([1, XX])\n",
    "print(id_vector)\n",
    "\n",
    "# Using prediction index in SFANC_FxNLMS\n",
    "FILE_NAME_PATH = 'models/Pretrained_Control_filters.mat'\n",
    "SFANC_FxNLMS_Cancellation = SFANC_FxNLMS(MAT_FILE=FILE_NAME_PATH, fs=16000)\n",
    "Error_SFANC_FxNLMS = SFANC_FxNLMS_Cancellation.noise_cancellation(Dis=Dis, Fx=Fx, filter_index=id_vector, Stepsize=StepSize)\n",
    "\n",
    "plt.title('(c) The Hybrid SFANC-FxNLMS Algorithm')\n",
    "plt.plot(Time, Dis, color='blue', label='ANC off')\n",
    "plt.plot(Time, Error_SFANC_FxNLMS, color='red', label='ANC on')\n",
    "plt.ylabel('Magnitude')\n",
    "plt.xlabel('Time (seconds)')\n",
    "plt.legend()\n",
    "plt.grid()\n",
    "plt.savefig('SFANC_FxNLMS.pdf', dpi=600, bbox_inches='tight', pad_inches=0)\n",
    "plt.show()"
   ]
  },
  {
   "cell_type": "code",
   "execution_count": null,
   "id": "cfebe657",
   "metadata": {},
   "outputs": [],
   "source": [
    "# compare the Noise_Reduction_Level in every second\n",
    "\n",
    "def Noise_Reduction_Level_Compute(Disturbance, Error):\n",
    "    Power_dis = 10*np.log10(np.var(Disturbance))\n",
    "    Power_err = 10*np.log10(np.var(Error))\n",
    "    NR_level = Power_dis - Power_err\n",
    "    return NR_level\n",
    "\n",
    "if torch.is_tensor(Dis):\n",
    "    Dis = Dis.numpy() # tensor to numpy\n",
    "if torch.is_tensor(ErrorFixed):\n",
    "    ErrorFixed = ErrorFixed.numpy()\n",
    "\n",
    "a, b, c = [], [], []\n",
    "a.append(Dis[0])\n",
    "b.append(Dis[0])\n",
    "c.append(Dis[0])\n",
    "Time1 = int(len(Dis)/fs)\n",
    "for t in range(Time1):\n",
    "    a.append(Noise_Reduction_Level_Compute(Dis[t*fs:(t+1)*fs], ErrorFixed[t*fs:(t+1)*fs]))\n",
    "    b.append(Noise_Reduction_Level_Compute(Dis[t*fs:(t+1)*fs], ErrorFxNLMS[t*fs:(t+1)*fs]))\n",
    "    c.append(Noise_Reduction_Level_Compute(Dis[t*fs:(t+1)*fs], Error_SFANC_FxNLMS[t*fs:(t+1)*fs]))\n",
    "    \n",
    "plt.title('(d) Averaged Noise Reduction Level of Every 1s')\n",
    "plt.step(range(0,Time1+1), a, color='orange', label='SFANC')\n",
    "plt.step(range(0,Time1+1), b, color='green', label='FxNLMS')\n",
    "plt.step(range(0,Time1+1), c, color='red', label='SFANC-FxNLMS')\n",
    "plt.ylabel('Noise Reduction Level (dB)')\n",
    "plt.xlabel('Time (seconds)')\n",
    "plt.xticks(range(0, Time1+1, 1)) # the interval in x\n",
    "plt.legend()\n",
    "plt.grid()\n",
    "plt.savefig('Noise_Reduction_Level.pdf', dpi=600, bbox_inches='tight', pad_inches=0)\n",
    "plt.show()"
   ]
  },
  {
   "cell_type": "code",
   "execution_count": null,
   "id": "78e9ec74",
   "metadata": {},
   "outputs": [],
   "source": [
    "# if Pri_path, Secon_path are changed, Pre_trianing_control_filters need to be trained again\n",
    "# %run Pre_trianing_control_filters.py"
   ]
  }
 ],
 "metadata": {
  "kernelspec": {
   "display_name": "Python 3 (ipykernel)",
   "language": "python",
   "name": "python3"
  },
  "language_info": {
   "codemirror_mode": {
    "name": "ipython",
    "version": 3
   },
   "file_extension": ".py",
   "mimetype": "text/x-python",
   "name": "python",
   "nbconvert_exporter": "python",
   "pygments_lexer": "ipython3",
   "version": "3.9.7"
  }
 },
 "nbformat": 4,
 "nbformat_minor": 5
}
