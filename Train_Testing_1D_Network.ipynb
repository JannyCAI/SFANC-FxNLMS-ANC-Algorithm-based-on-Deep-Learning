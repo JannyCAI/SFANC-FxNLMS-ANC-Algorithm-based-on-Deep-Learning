{
 "cells": [
  {
   "cell_type": "code",
   "execution_count": null,
   "metadata": {},
   "outputs": [],
   "source": [
    "from DataSet_construction_v2 import Generating_Dataset_as_Given_Frequencylevels\n",
    "from Filter_design import Broadband_Filter_Design_as_Given_F_levles\n",
    "from Train_validate import Train_Validate_CNN, Continue_Train_Validate_CNN\n",
    "from Testing_M5_Network_original import Test_model_accuracy_original, Output_Test_Error_Samples\n",
    "from Bcolors import bcolors\n",
    "import os\n",
    "import torch\n",
    "import matplotlib.pyplot as plt\n",
    "import numpy as np\n",
    " \n",
    "print(\"number of GPUs:\", torch.cuda.device_count())"
   ]
  },
  {
   "cell_type": "code",
   "execution_count": null,
   "metadata": {},
   "outputs": [],
   "source": [
    "# Training and validating a new CNN model\n",
    "# input.size: (1,16000)\n",
    "Folder_name_list_of_data_set =['Total_Dataset/Training_data', 'Total_Dataset/Validate_data', 'Total_Dataset/Testing_data']\n",
    "MODEL_PTH = 'Trained models/model.pth'\n",
    "File_sheet = 'Synthetic_Index.csv'\n",
    "acc_train, acc_validate, train_loss_epochs, validate_loss_epochs = Train_Validate_CNN(TRIAN_DATASET_FILE=Folder_name_list_of_data_set[0]\n",
    "                                                            , VALIDATION_DATASET_FILE=Folder_name_list_of_data_set[1]\n",
    "                                                            , MODEL_PTH=MODEL_PTH, File_sheet=File_sheet)"
   ]
  },
  {
   "cell_type": "code",
   "execution_count": null,
   "metadata": {},
   "outputs": [],
   "source": [
    "plt.plot(np.arange(len(train_loss_epochs)),train_loss_epochs, marker='.', markersize=10, color='r',label='training_loss')\n",
    "plt.plot(np.arange(len(validate_loss_epochs)),validate_loss_epochs, marker='.', markersize=10, color='g',label='validation_loss')\n",
    "plt.ylabel('Loss')\n",
    "plt.xlabel('Epoches')\n",
    "plt.legend()\n",
    "plt.show()"
   ]
  },
  {
   "cell_type": "code",
   "execution_count": null,
   "metadata": {},
   "outputs": [],
   "source": [
    "# Testing the trained CNN model with FC based on the testing dataset.\n",
    "\n",
    "MODEL_PTH = 'Trained models/model.pth'\n",
    "print('=======================================================')\n",
    "print(bcolors.HEADER+'Testing model accuracy'+bcolors.ENDC)\n",
    "print('=======================================================')\n",
    "\n",
    "Folder_name_list_of_data_set =['Total_Dataset/Training_data', 'Total_Dataset/Validate_data', 'Total_Dataset/Testing_data']\n",
    "File_sheet = 'Synthetic_Index.csv'\n",
    "if os.path.exists(MODEL_PTH):\n",
    "    acc = Test_model_accuracy_original(TESTING_DATASET_FILE=Folder_name_list_of_data_set[2]\n",
    "                                      , MODLE_PTH=MODEL_PTH, File_sheet=File_sheet)\n",
    "    repot = bcolors.OKGREEN  + f' The accuracy on testing datast is {acc}' + bcolors.ENDC\n",
    "    print(repot)\n",
    "else:\n",
    "    print(bcolors.FAIL + MODEL_PTH + ' does not exsit !' + bcolors.ENDC)"
   ]
  },
  {
   "cell_type": "code",
   "execution_count": null,
   "metadata": {},
   "outputs": [],
   "source": []
  }
 ],
 "metadata": {
  "kernelspec": {
   "display_name": "Python 3 (ipykernel)",
   "language": "python",
   "name": "python3"
  },
  "language_info": {
   "codemirror_mode": {
    "name": "ipython",
    "version": 3
   },
   "file_extension": ".py",
   "mimetype": "text/x-python",
   "name": "python",
   "nbconvert_exporter": "python",
   "pygments_lexer": "ipython3",
   "version": "3.9.7"
  }
 },
 "nbformat": 4,
 "nbformat_minor": 4
}
